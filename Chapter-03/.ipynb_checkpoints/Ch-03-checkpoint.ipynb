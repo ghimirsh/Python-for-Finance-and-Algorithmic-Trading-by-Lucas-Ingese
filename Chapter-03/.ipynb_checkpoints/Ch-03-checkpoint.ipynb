{
 "cells": [
  {
   "cell_type": "markdown",
   "id": "749c5f64-ec8d-4fdd-9162-166e4252ed18",
   "metadata": {},
   "source": [
    "# Chapter 3: Static portfolio optimization"
   ]
  },
  {
   "cell_type": "code",
   "execution_count": null,
   "id": "1342e587-48c9-458c-8578-deb6db1ec784",
   "metadata": {},
   "outputs": [],
   "source": [
    "from scipy.optimize import minimize\n",
    "import numpy as np\n",
    "import pandas as pd\n",
    "import matplotlib.pyplot as plt\n",
    "# plt.style.use('seaborn')\n",
    "plt.style.use('seaborn-v0_8')\n",
    "import warnings\n",
    "warnings.filterwarnings(\"ignore\")\n",
    "import yfinance as yf\n",
    "from datetime import date"
   ]
  },
  {
   "cell_type": "code",
   "execution_count": null,
   "id": "a31600a8-2906-45f0-a913-3b1dfaa1b73e",
   "metadata": {},
   "outputs": [],
   "source": [
    "todays_date = date.today()\n",
    "# Importation of data\n",
    "list_tickers = [\"META\", \"NFLX\", \"TSLA\"]\n",
    "database = yf.download(tickers=list_tickers,\n",
    "                       start='2012-01-01',\n",
    "                       # end=todays_date,\n",
    "                       end='2021-12-31',\n",
    "                       auto_adjust=False,\n",
    "                       multi_level_index=False\n",
    "                      )\n",
    "database"
   ]
  },
  {
   "cell_type": "code",
   "execution_count": null,
   "id": "327405ad-bbed-4f86-8be6-3c76994e8441",
   "metadata": {},
   "outputs": [],
   "source": [
    "# Take only the adjusted stock price\n",
    "database = database[\"Adj Close\"]\n",
    "database\n"
   ]
  },
  {
   "cell_type": "code",
   "execution_count": null,
   "id": "82a4d9ac-0d7a-4c80-b6f8-f19c7b306a43",
   "metadata": {},
   "outputs": [],
   "source": [
    "# Drop missing values\n",
    "data = database.dropna().pct_change(1).dropna()\n",
    "data"
   ]
  },
  {
   "cell_type": "markdown",
   "id": "9d32b844-5adb-4271-9316-fcba306dc402",
   "metadata": {},
   "source": [
    "# 3.2.2 Mean variance optimization"
   ]
  },
  {
   "cell_type": "code",
   "execution_count": null,
   "id": "d539663a-e8cd-4a3d-8913-1564c0a94e95",
   "metadata": {},
   "outputs": [],
   "source": [
    "def MV_criterion(weights, data):\n",
    "    \"\"\"\n",
    "    -----------------------------------------------------------------------------\n",
    "    | Output: optimization porfolio criterion                                   |\n",
    "    -----------------------------------------------------------------------------\n",
    "    | Inputs: -weight (type ndarray numpy): Wheight for portfolio               |\n",
    "    |         -data (type ndarray numpy): Returns of stocks                     |\n",
    "    -----------------------------------------------------------------------------\n",
    "    \"\"\"\n",
    "\n",
    "    # Parameters\n",
    "    Lambda = 3\n",
    "    W = 1\n",
    "    Wbar = 1 + 0.25 / 100\n",
    "\n",
    "    # Compute portfolio returns\n",
    "    portfolio_return = np.multiply(data, np.transpose(weights))\n",
    "    portfolio_return = portfolio_return.sum(axis=1)\n",
    "\n",
    "    # Compute mean and volatility of the portfolio\n",
    "    mean = np.mean(portfolio_return, axis=0)\n",
    "    std = np.std(portfolio_return, axis=0)\n",
    "\n",
    "    # Compute the criterion\n",
    "    criterion = Wbar ** (1 - Lambda) / (1 + Lambda) + Wbar ** (-Lambda) \\\n",
    "                * W * mean - Lambda / 2 * Wbar ** (-1 - Lambda) * W ** 2 * std ** 2\n",
    "    criterion = -criterion\n",
    "    \n",
    "    return criterion"
   ]
  },
  {
   "cell_type": "code",
   "execution_count": null,
   "id": "af85f0d8-5d59-4236-8331-cdec6bcd750d",
   "metadata": {},
   "outputs": [],
   "source": [
    "# Define train and test sets\n",
    "split = int(0.7 * len(data))\n",
    "train_set = data.iloc[:split, :]\n",
    "test_set = data.iloc[split:, :]\n",
    "\n",
    "# Find the number of asset\n",
    "n = data.shape[1]\n",
    "\n",
    "# Initialisation weight value\n",
    "x0 = np.ones(n)\n",
    "\n",
    "# Optimization constraints problem\n",
    "cons = ({'type': 'eq', 'fun': lambda x: sum(abs(x)) - 1})\n",
    "\n",
    "# Set the bounds\n",
    "Bounds = [(0, 1) for i in range(0, n)]\n",
    "\n",
    "# Optimization problem solving\n",
    "res_MV = minimize(MV_criterion, x0, method=\"SLSQP\",\n",
    "                  args=(train_set), bounds=Bounds,\n",
    "                  constraints=cons, options={'disp': True})\n",
    "\n",
    "# Result for computations\n",
    "X_MV = res_MV.x"
   ]
  },
  {
   "cell_type": "code",
   "execution_count": null,
   "id": "b448445c-b616-4aba-8327-38a0b2a736be",
   "metadata": {},
   "outputs": [],
   "source": [
    "X_MV"
   ]
  },
  {
   "cell_type": "code",
   "execution_count": null,
   "id": "8c0ecc9e-7754-4c78-b599-561f9c09680b",
   "metadata": {},
   "outputs": [],
   "source": [
    "import pandas as pd\n",
    "import numpy as np\n",
    "\n",
    "# Your tickers and the resulting weights from the optimization\n",
    "# NOTE: The image uses \"Facebook\", but your code uses \"META\". \n",
    "# We'll stick to your code's tickers for accuracy.\n",
    "list_tickers = [\"META\", \"NFLX\", \"TSLA\"]\n",
    "\n",
    "# 1. Create the DataFrame directly in the desired shape\n",
    "# The columns are your tickers, the index is ['Weight'], and the data is your weights array wrapped in another list\n",
    "df_horizontal = pd.DataFrame(data=[X_MV], columns=list_tickers, index=['Weight'])\n",
    "\n",
    "# 2. Format the numbers into percentage strings\n",
    "# The .applymap() function applies a formatting rule to every cell\n",
    "df_formatted = df_horizontal.applymap(lambda x: f'{x:.2%}')\n",
    "\n",
    "# 3. Set the name of the index to 'Asset' to match the image\n",
    "df_formatted.index.name = 'Asset'\n",
    "\n",
    "# Display the final, formatted DataFrame\n",
    "df_formatted"
   ]
  },
  {
   "cell_type": "code",
   "execution_count": null,
   "id": "bc706251-b195-4dbc-91c3-0977b7bb9101",
   "metadata": {},
   "outputs": [],
   "source": [
    "import pandas as pd\n",
    "import numpy as np\n",
    "\n",
    "# Your tickers and the resulting weights\n",
    "list_tickers = [\"META\", \"NFLX\", \"TSLA\"]\n",
    "\n",
    "# Create the DataFrame in the horizontal shape\n",
    "df_horizontal = pd.DataFrame(data=[X_MV], columns=list_tickers, index=['Weight'])\n",
    "\n",
    "# Format the numbers into percentage strings\n",
    "df_formatted = df_horizontal.applymap(lambda x: f'{x:.2%}')\n",
    "\n",
    "# Set the name of the index to 'Asset'\n",
    "df_formatted.index.name = 'Asset'\n",
    "\n",
    "# --- THE KEY NEW STEP ---\n",
    "# Set the columns' name to None to separate the header lines\n",
    "df_formatted.columns.name = None\n",
    "\n",
    "# Display the final, correctly styled DataFrame\n",
    "# df_formatted\n",
    "\n",
    "df_final = df_formatted.reset_index()\n",
    "\n",
    "# Display the result\n",
    "df_final"
   ]
  },
  {
   "cell_type": "code",
   "execution_count": null,
   "id": "761401d5-4d07-4fc3-8a11-3597c752e52e",
   "metadata": {},
   "outputs": [],
   "source": [
    "# Compute the cumulative return of the portfolio (CM)\n",
    "# portfolio_return_MV = np.multiply(test_set,np.transpose(X_MV))\n",
    "# portfolio_return_MV = portfolio_return_MV.sum(axis=1)\n",
    "\n",
    "# # Plot the CM\n",
    "# plt.figure(figsize=(15,8))\n",
    "# plt.plot(np.cumsum(portfolio_return_MV)*100, color=\"#035593\", linewidth=3)\n",
    "# plt.ylabel(\"Cumulative return %\", size=15, fontweight=\"bold\")\n",
    "# plt.xticks(size=15,fontweight=\"bold\")\n",
    "# plt.yticks(size=15,fontweight=\"bold\")\n",
    "# plt.title(\"Cumulative return of the mean variance potfolio\", size=20)\n",
    "# plt.axhline(0, color=\"r\",linewidth=3)\n",
    "# plt.show()"
   ]
  },
  {
   "cell_type": "code",
   "execution_count": null,
   "id": "61188a1d-6157-4683-a6cc-99868eb5781b",
   "metadata": {},
   "outputs": [],
   "source": [
    "# --- Your existing code ---\n",
    "# Compute the cumulative return of the portfolio (CM)\n",
    "portfolio_return_MV = np.multiply(test_set, np.transpose(X_MV))\n",
    "portfolio_return_MV = portfolio_return_MV.sum(axis=1)\n",
    "\n",
    "# --- NEW AND IMPROVED PLOTTING SECTION ---\n",
    "\n",
    "# Calculate the cumulative return as a Pandas Series (this preserves the date index)\n",
    "cumulative_returns_series = portfolio_return_MV.cumsum() * 100\n",
    "\n",
    "# Plot the Series directly. Matplotlib will use the index for the x-axis.\n",
    "plt.figure(figsize=(15, 8))\n",
    "plt.plot(cumulative_returns_series, color=\"#035593\", linewidth=3) # Pass the whole series here\n",
    "plt.ylabel(\"Cumulative return %\", size=15)\n",
    "plt.xticks(size=15)\n",
    "plt.yticks(size=15)\n",
    "plt.title(\"Cumulative Return of Mean-Variance Portfolio (Test Set)\", size=20)\n",
    "plt.axhline(0, color=\"r\", linewidth=2)\n",
    "plt.grid(True) # It's good practice to add a grid\n",
    "plt.show()"
   ]
  },
  {
   "cell_type": "code",
   "execution_count": null,
   "id": "16ad1bd1-90ea-4813-b983-ee76caeaad4a",
   "metadata": {},
   "outputs": [],
   "source": [
    "# Code from chapter 5\n",
    "# from Backtest import *\n",
    "# backtest_static_portfolio(X_MV, test_set, CR=True)"
   ]
  },
  {
   "cell_type": "markdown",
   "id": "652cef13-0228-459a-82f4-377f71556ef2",
   "metadata": {},
   "source": [
    "# 3.2.3 Mean variance skewness kurtosis"
   ]
  },
  {
   "cell_type": "code",
   "execution_count": null,
   "id": "6abcaf9f-01b6-45b0-9da9-9ed22aacd0f5",
   "metadata": {},
   "outputs": [],
   "source": [
    "def SK_criterion(weights, data):\n",
    "    \"\"\" \n",
    "    -----------------------------------------------------------------------------\n",
    "    | Output: optimization porfolio criterion                                   |\n",
    "    -----------------------------------------------------------------------------\n",
    "    | Inputs: -weight (type ndarray numpy): Wheight for portfolio               |\n",
    "    |         -data (type ndarray numpy): Returns of stocks                     |\n",
    "    -----------------------------------------------------------------------------\n",
    "    \"\"\"\n",
    "    from scipy.stats import skew, kurtosis\n",
    "    # Parameters\n",
    "    Lambda = 3\n",
    "    W = 1\n",
    "    Wbar = 1 + 0.25 / 100\n",
    "\n",
    "    # Compute portfolio returns\n",
    "    portfolio_return = np.multiply(data, np.transpose(weights))\n",
    "    portfolio_return = portfolio_return.sum(axis=1)\n",
    "\n",
    "    # Compute mean, volatility, skew, kurtosis of the portfolio\n",
    "    mean = np.mean(portfolio_return, axis=0)\n",
    "    std = np.std(portfolio_return, axis=0)\n",
    "    skewness = skew(portfolio_return, 0)\n",
    "    kurt = kurtosis(portfolio_return, 0)\n",
    "\n",
    "    # Compute the criterion\n",
    "    criterion = Wbar ** (1 - Lambda) / (1 + Lambda) + Wbar ** (-Lambda) \\\n",
    "    * W * mean - Lambda / 2 * Wbar ** (-1 - Lambda) * W ** 2 * std ** 2 \\\n",
    "    + Lambda * (Lambda + 1) / (6) * Wbar ** (-2 - Lambda) * W ** 3 * skewness \\\n",
    "    - Lambda * (Lambda + 1) * (Lambda + 2) / (24) * Wbar ** (-3 - Lambda) *\\\n",
    "     W ** 4 * kurt\n",
    "    \n",
    "    criterion = -criterion\n",
    "    \n",
    "    return criterion"
   ]
  },
  {
   "cell_type": "code",
   "execution_count": null,
   "id": "d2eceafb-37e4-4a26-8d8d-f3e72d5a6f8c",
   "metadata": {},
   "outputs": [],
   "source": [
    "# Find the number of asset\n",
    "n = data.shape[1]\n",
    "\n",
    "# Initialization weight value\n",
    "x0 = np.ones(n)\n",
    "\n",
    "# Optimization constraints problem\n",
    "cons = ({'type': 'eq', 'fun': lambda x: sum(abs(x)) - 1})\n",
    "\n",
    "# Set the bounds\n",
    "Bounds = [(0, 1) for i in range(0, n)]\n",
    "\n",
    "# Optimization problem solving\n",
    "res_SK = minimize(SK_criterion, x0, method=\"SLSQP\",\n",
    "                  args=(train_set), bounds=Bounds,\n",
    "                  constraints=cons, options={'disp': True})\n",
    "\n",
    "# Result \n",
    "X_SK = res_SK.x"
   ]
  },
  {
   "cell_type": "code",
   "execution_count": null,
   "id": "c23d7fe0-25df-491d-b731-0173d1713c58",
   "metadata": {},
   "outputs": [],
   "source": [
    "X_SK"
   ]
  },
  {
   "cell_type": "code",
   "execution_count": null,
   "id": "2f2036c0-20b0-449b-b746-afca144ab00d",
   "metadata": {},
   "outputs": [],
   "source": [
    "# Compute the cumulative return of the portfolio (CM)\n",
    "portfolio_return_SK = np.multiply(test_set,np.transpose(X_SK))\n",
    "portfolio_return_SK = portfolio_return_SK.sum(axis=1)\n",
    "\n",
    "# Plot the CM\n",
    "fig = plt.figure(figsize=(15,8))\n",
    "plt.plot(np.cumsum(portfolio_return_MV)*100, color=\"#035593\", linewidth=3)\n",
    "plt.plot(np.cumsum(portfolio_return_SK)*100, color=\"#039313\", linewidth=3)\n",
    "plt.ylabel(\"Cumulative return %\", size=15, fontweight=\"bold\")\n",
    "plt.axhline(0, color=\"r\")\n",
    "plt.legend([\"Mean-variance\", \"Mean-variance-skweness-kurtosis\"])\n",
    "plt.title(\"Cumulative return of the mean variance skweness kurtosis potfolio\", size=20)\n",
    "plt.xticks(size=15, fontweight=\"bold\")\n",
    "plt.yticks(size=15, fontweight=\"bold\")\n",
    "plt.show()"
   ]
  },
  {
   "cell_type": "code",
   "execution_count": null,
   "id": "76a2f5a4-5d24-454c-ab9d-f0f73a0dd6d4",
   "metadata": {},
   "outputs": [],
   "source": [
    "# backtest_static_portfolio(X_SK, test_set, CR=True)"
   ]
  },
  {
   "cell_type": "code",
   "execution_count": null,
   "id": "512df090-1d0e-469f-9bf1-d3d66854f3e5",
   "metadata": {},
   "outputs": [],
   "source": []
  },
  {
   "cell_type": "markdown",
   "id": "9f9f79c7-ee4a-49d5-ba2b-5f43a9070816",
   "metadata": {},
   "source": [
    "# 3.3.1 Sharpe ratio criterion"
   ]
  },
  {
   "cell_type": "code",
   "execution_count": null,
   "id": "998e78fd-18b9-4a61-82c3-d3df41049ac2",
   "metadata": {},
   "outputs": [],
   "source": [
    "def SR_criterion(weight, data):\n",
    "    \"\"\" \n",
    "    -----------------------------------------------------------------------------\n",
    "    | Output: Opposite Sortino ratio to do a mimization                         |\n",
    "    -----------------------------------------------------------------------------\n",
    "    | Inputs: -Weight (type ndarray numpy): Wheight for portfolio               |\n",
    "    |         -data (type dataframe pandas): Returns of stocks                  |\n",
    "    -----------------------------------------------------------------------------\n",
    "    \"\"\"\n",
    "    # Compute portfolio returns\n",
    "    portfolio_return = np.multiply(data, np.transpose(weight))\n",
    "    portfolio_return = portfolio_return.sum(axis=1)\n",
    "\n",
    "    # Compute mean, volatility of the portfolio\n",
    "    mean = np.mean(portfolio_return, axis=0)\n",
    "    std = np.std(portfolio_return, axis=0)\n",
    "\n",
    "    # Compute the opposite of the Sharpe ratio\n",
    "    Sharpe = mean / std\n",
    "    Sharpe = -Sharpe\n",
    "    return Sharpe"
   ]
  },
  {
   "cell_type": "code",
   "execution_count": null,
   "id": "7f53d230-919f-40bf-9884-7432642d09bc",
   "metadata": {},
   "outputs": [],
   "source": [
    "# Find the number of asset\n",
    "n=data.shape[1]\n",
    "\n",
    "# Initialization weight value\n",
    "x0 = np.ones(n)\n",
    "\n",
    "# Optimization constraints problem\n",
    "cons=({'type':'eq', 'fun': lambda x:sum(abs(x))-1})\n",
    "\n",
    "# Set the bounds\n",
    "Bounds= [(0 , 1) for i in range(0,n)]\n",
    "\n",
    "\n",
    "# Optimization problem solving\n",
    "res_SR = minimize(SR_criterion, x0, method=\"SLSQP\",\n",
    "                  args=(train_set),bounds=Bounds,\n",
    "                  constraints=cons,options={'disp': True})\n",
    "\n",
    "# Result for computations\n",
    "X_SR = res_SR.x"
   ]
  },
  {
   "cell_type": "code",
   "execution_count": null,
   "id": "9c545ab8-a189-473d-873c-a3a5d649a918",
   "metadata": {},
   "outputs": [],
   "source": [
    "X_SR"
   ]
  },
  {
   "cell_type": "code",
   "execution_count": null,
   "id": "378a5e72-ea30-41e0-81c7-ba29785bbdc4",
   "metadata": {},
   "outputs": [],
   "source": [
    "# Compute the cumulative return of the portfolio (CM)\n",
    "portfolio_return_SR = np.multiply(test_set,np.transpose(X_SR))\n",
    "portfolio_return_SR = portfolio_return_SR.sum(axis=1)\n",
    "\n",
    "# Plot the CM\n",
    "plt.figure(figsize=(15,8))\n",
    "plt.plot(np.cumsum(portfolio_return_MV)*100, color=\"#035593\", linewidth=3)\n",
    "plt.plot(np.cumsum(portfolio_return_SK)*100, color=\"#039313\", linewidth=3)\n",
    "plt.plot(np.cumsum(portfolio_return_SR)*100, color=\"#930303\", linewidth=3)\n",
    "plt.ylabel(\"Cumulative return %\",fontweight=\"bold\")\n",
    "plt.axhline(0, color=\"r\")\n",
    "plt.legend([\"Mean-variance\", \"Mean-variance-skweness-kurtosis\", \"Sharpe\"])\n",
    "#plt.title(\"Cumulative return of the best Sharpe potfolio\", size=20)\n",
    "plt.xticks(size=15,fontweight=\"bold\")\n",
    "plt.yticks(size=15,fontweight=\"bold\")\n",
    "plt.show()"
   ]
  },
  {
   "cell_type": "code",
   "execution_count": null,
   "id": "b9c84b59-1aa4-4105-a2b2-4ca8a0fa461b",
   "metadata": {},
   "outputs": [],
   "source": []
  },
  {
   "cell_type": "markdown",
   "id": "fd1f501c-4f1d-4fb8-8620-487b4fa54119",
   "metadata": {},
   "source": [
    "# 3.3.2 Sortino ratio criterion"
   ]
  },
  {
   "cell_type": "code",
   "execution_count": null,
   "id": "c20c5312-bd7b-42fc-9fac-4ae0b9178c4f",
   "metadata": {},
   "outputs": [],
   "source": [
    "def SOR_criterion(weight, data):\n",
    "    \"\"\" \n",
    "    -----------------------------------------------------------------------------\n",
    "    | Output: Opposite Sortino ratio to do a m imization                        |\n",
    "    -----------------------------------------------------------------------------\n",
    "    | Inputs: -Weight (type ndarray numpy): Wheight for portfolio               |\n",
    "    |         -data (type dataframe pandas): Returns of stocks                  |\n",
    "    -----------------------------------------------------------------------------\n",
    "    \"\"\"\n",
    "    # Compute portfolio returns\n",
    "    portfolio_return = np.multiply(data, np.transpose(weight))\n",
    "    portfolio_return = portfolio_return.sum(axis=1)\n",
    "\n",
    "    # Compute mean, volatility of the portfolio\n",
    "    mean = np.mean(portfolio_return, axis=0)\n",
    "    std = np.std(portfolio_return[portfolio_return < 0], axis=0)\n",
    "\n",
    "    # Compute the opposite of the Sharpe ratio\n",
    "    Sortino = mean / std\n",
    "    Sortino = -Sortino\n",
    "    \n",
    "    return Sortino"
   ]
  },
  {
   "cell_type": "code",
   "execution_count": null,
   "id": "85c22be0-d1a3-4503-8b98-38b8f86534c1",
   "metadata": {},
   "outputs": [],
   "source": [
    "# Find the number of asset\n",
    "n=data.shape[1]\n",
    "\n",
    "# Initialization weight value\n",
    "x0 = np.zeros(n)+1/n\n",
    "\n",
    "# Optimization constraints problem\n",
    "cons=({'type':'eq', 'fun': lambda x:sum(abs(x))-1})\n",
    "\n",
    "# Set the bounds\n",
    "Bounds= [(0 , 1) for i in range(0,n)]\n",
    "\n",
    "\n",
    "# Optimization problem solving\n",
    "res_SOR = minimize(SOR_criterion, x0, method=\"SLSQP\",\n",
    "                  args=(train_set),bounds=Bounds,\n",
    "                  constraints=cons,options={'disp': True})\n",
    "\n",
    "# Result for computations\n",
    "X_SOR = res_SOR.x"
   ]
  },
  {
   "cell_type": "code",
   "execution_count": null,
   "id": "fe8dc5d7-c3a6-4804-86bf-e38ded3c46c4",
   "metadata": {},
   "outputs": [],
   "source": [
    "# Compute the cumulative return of the portfolio (CM)\n",
    "portfolio_return_SOR = np.multiply(test_set,np.transpose(X_SOR))\n",
    "portfolio_return_SOR = portfolio_return_SOR.sum(axis=1)\n",
    "\n",
    "# Plot the CM\n",
    "plt.figure(figsize=(15,8))\n",
    "plt.plot(np.cumsum(portfolio_return_MV)*100, color=\"#035593\", linewidth=3)\n",
    "plt.plot(np.cumsum(portfolio_return_SK)*100, color=\"#039313\", linewidth=3)\n",
    "plt.plot(np.cumsum(portfolio_return_SR)*100, color=\"#930303\", linewidth=3)\n",
    "plt.plot(np.cumsum(portfolio_return_SOR)*100, color=\"#18C8BA\", linewidth=3)\n",
    "plt.ylabel(\"Cumulative return %\",fontweight=\"bold\")\n",
    "plt.axhline(0, color=\"r\")\n",
    "plt.legend([\"Mean-variance\", \"Mean-variance-skweness-kurtosis\", \"Sharpe\", \"Sortino\"])\n",
    "plt.title(\"Cumulative return of the best Sortino potfolio\", size=20)\n",
    "plt.xticks(size=15,fontweight=\"bold\")\n",
    "plt.yticks(size=15,fontweight=\"bold\")\n",
    "plt.show()"
   ]
  },
  {
   "cell_type": "code",
   "execution_count": null,
   "id": "5f9cf429-0c5a-43cf-950f-a6451d71a2fe",
   "metadata": {},
   "outputs": [],
   "source": []
  }
 ],
 "metadata": {
  "kernelspec": {
   "display_name": "Python [conda env:base] *",
   "language": "python",
   "name": "conda-base-py"
  },
  "language_info": {
   "codemirror_mode": {
    "name": "ipython",
    "version": 3
   },
   "file_extension": ".py",
   "mimetype": "text/x-python",
   "name": "python",
   "nbconvert_exporter": "python",
   "pygments_lexer": "ipython3",
   "version": "3.13.5"
  }
 },
 "nbformat": 4,
 "nbformat_minor": 5
}
